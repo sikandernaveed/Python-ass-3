{
 "cells": [
  {
   "cell_type": "code",
   "execution_count": 1,
   "id": "26479577",
   "metadata": {},
   "outputs": [
    {
     "name": "stdout",
     "output_type": "stream",
     "text": [
      "343\n"
     ]
    }
   ],
   "source": [
    "#how can we write an power of any number?\n",
    "x=7**3\n",
    "print(x)"
   ]
  },
  {
   "cell_type": "code",
   "execution_count": 3,
   "id": "ee87409a",
   "metadata": {
    "scrolled": true
   },
   "outputs": [
    {
     "name": "stdout",
     "output_type": "stream",
     "text": [
      "PLEASE ENTER YOUR AGE12\n",
      "PLEASE ENTER YOUR GENDERMALE\n",
      "12\n"
     ]
    }
   ],
   "source": [
    "#how can we take input?\n",
    "SIKANDER=int(input(\"PLEASE ENTER YOUR AGE\"))\n",
    "GENDER =(input(\"PLEASE ENTER YOUR GENDER\"))\n",
    "print(SIKANDER)"
   ]
  },
  {
   "cell_type": "code",
   "execution_count": 5,
   "id": "e3032ebc",
   "metadata": {},
   "outputs": [
    {
     "name": "stdout",
     "output_type": "stream",
     "text": [
      "True\n"
     ]
    }
   ],
   "source": [
    "#HOW TO USE if and else atatements\n",
    "x=10\n",
    "y=12\n",
    "a=30\n",
    "b=8\n",
    "if (x+y == a-b):\n",
    " print(True);\n",
    "else:\n",
    " print(False);"
   ]
  },
  {
   "cell_type": "markdown",
   "id": "a82f0c48",
   "metadata": {},
   "source": []
  },
  {
   "cell_type": "code",
   "execution_count": 6,
   "id": "74e4e61d",
   "metadata": {},
   "outputs": [
    {
     "name": "stdout",
     "output_type": "stream",
     "text": [
      "['sikander', 'naveed', 'taqwa', 'yaman', 'asim']\n"
     ]
    }
   ],
   "source": [
    "# HOW LIST WORKS\n",
    "name=[\"sikander\",\"naveed\",\"taqwa\",\"yaman\",\"asim\"];\n",
    "print(name)"
   ]
  },
  {
   "cell_type": "code",
   "execution_count": 8,
   "id": "ee2660e5",
   "metadata": {},
   "outputs": [
    {
     "name": "stdout",
     "output_type": "stream",
     "text": [
      "yaman\n"
     ]
    }
   ],
   "source": [
    "print(name[3]);\n"
   ]
  },
  {
   "cell_type": "code",
   "execution_count": 9,
   "id": "613b0137",
   "metadata": {},
   "outputs": [
    {
     "name": "stdout",
     "output_type": "stream",
     "text": [
      "['sikander', 'naveed', 'taqwa', 'yaman', 'asim', 'SEHAR']\n"
     ]
    }
   ],
   "source": [
    "name.append(\"SEHAR\");\n",
    "print(name)\n"
   ]
  },
  {
   "cell_type": "code",
   "execution_count": 10,
   "id": "96310602",
   "metadata": {},
   "outputs": [
    {
     "name": "stdout",
     "output_type": "stream",
     "text": [
      "['loin', 14, True, 4737.243]\n"
     ]
    }
   ],
   "source": [
    "ANIMALS=[\"loin\",14,True,4737.243]\n",
    "print(ANIMALS)\n"
   ]
  },
  {
   "cell_type": "code",
   "execution_count": 11,
   "id": "648bfb9d",
   "metadata": {},
   "outputs": [
    {
     "name": "stdout",
     "output_type": "stream",
     "text": [
      "['loin', 14, True, 4737.243, 'sikander', 'naveed', 'taqwa', 'yaman', 'asim', 'SEHAR']\n"
     ]
    }
   ],
   "source": [
    "#HOW TO CONTCATINATE 2 LISTs\n",
    "JAWANpakistan=ANIMALS+name\n",
    "print(JAWANpakistan)"
   ]
  },
  {
   "cell_type": "code",
   "execution_count": 12,
   "id": "9052e71b",
   "metadata": {},
   "outputs": [
    {
     "name": "stdout",
     "output_type": "stream",
     "text": [
      "[True, 4737.243, 'sikander']\n"
     ]
    }
   ],
   "source": [
    "#its called slicing means to carry an value and save it from some other place in another veriable\n",
    "A1=JAWANpakistan[2:5]\n",
    "print(A1)\n"
   ]
  },
  {
   "cell_type": "code",
   "execution_count": null,
   "id": "fa1a2a62",
   "metadata": {},
   "outputs": [],
   "source": []
  }
 ],
 "metadata": {
  "kernelspec": {
   "display_name": "Python 3",
   "language": "python",
   "name": "python3"
  },
  "language_info": {
   "codemirror_mode": {
    "name": "ipython",
    "version": 3
   },
   "file_extension": ".py",
   "mimetype": "text/x-python",
   "name": "python",
   "nbconvert_exporter": "python",
   "pygments_lexer": "ipython3",
   "version": "3.8.8"
  }
 },
 "nbformat": 4,
 "nbformat_minor": 5
}
